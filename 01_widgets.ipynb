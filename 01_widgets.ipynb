{
 "cells": [
  {
   "cell_type": "code",
   "execution_count": 1,
   "id": "528ebd36-a832-4652-b83a-7844c73b06de",
   "metadata": {},
   "outputs": [],
   "source": [
    "# default_exp widgets"
   ]
  },
  {
   "cell_type": "code",
   "execution_count": 2,
   "id": "010aed27-6f11-4393-87a8-452203c832eb",
   "metadata": {},
   "outputs": [],
   "source": [
    "# export\n",
    "import pandas as pd\n",
    "import ipyvuetify as v\n",
    "from typing import Dict, List\n",
    "import plotly.graph_objects as go\n",
    "from ipyflex import FlexLayout\n",
    "from nbdev.export import notebook2script"
   ]
  },
  {
   "cell_type": "markdown",
   "id": "99606693-21ee-42fe-98f7-631de40f0af1",
   "metadata": {
    "tags": []
   },
   "source": [
    "# Widgets"
   ]
  },
  {
   "cell_type": "markdown",
   "id": "42d4a066-6fbc-4c56-98d8-05b497b20da9",
   "metadata": {},
   "source": [
    "## Data Generation"
   ]
  },
  {
   "cell_type": "code",
   "execution_count": 3,
   "id": "3111bc3f",
   "metadata": {},
   "outputs": [],
   "source": [
    "# export\n",
    "def load_data(path):\n",
    "    df = pd.read_csv('data.csv')\n",
    "    bukrs_options = df['BUKRS'].value_counts()[:15].index.tolist()\n",
    "    return df, bukrs_options"
   ]
  },
  {
   "cell_type": "code",
   "execution_count": 4,
   "id": "d986fc78-9a6a-4de7-ace6-cc6c2a65b5fe",
   "metadata": {},
   "outputs": [
    {
     "data": {
      "text/html": [
       "<div>\n",
       "<style scoped>\n",
       "    .dataframe tbody tr th:only-of-type {\n",
       "        vertical-align: middle;\n",
       "    }\n",
       "\n",
       "    .dataframe tbody tr th {\n",
       "        vertical-align: top;\n",
       "    }\n",
       "\n",
       "    .dataframe thead th {\n",
       "        text-align: right;\n",
       "    }\n",
       "</style>\n",
       "<table border=\"1\" class=\"dataframe\">\n",
       "  <thead>\n",
       "    <tr style=\"text-align: right;\">\n",
       "      <th></th>\n",
       "      <th>BELNR</th>\n",
       "      <th>WAERS</th>\n",
       "      <th>BUKRS</th>\n",
       "      <th>KTOSL</th>\n",
       "      <th>PRCTR</th>\n",
       "      <th>BSCHL</th>\n",
       "      <th>HKONT</th>\n",
       "      <th>DMBTR</th>\n",
       "      <th>WRBTR</th>\n",
       "      <th>label</th>\n",
       "    </tr>\n",
       "  </thead>\n",
       "  <tbody>\n",
       "    <tr>\n",
       "      <th>0</th>\n",
       "      <td>288203</td>\n",
       "      <td>C3</td>\n",
       "      <td>C31</td>\n",
       "      <td>C9</td>\n",
       "      <td>C92</td>\n",
       "      <td>A3</td>\n",
       "      <td>B1</td>\n",
       "      <td>280979.60</td>\n",
       "      <td>0.00</td>\n",
       "      <td>regular</td>\n",
       "    </tr>\n",
       "    <tr>\n",
       "      <th>1</th>\n",
       "      <td>324441</td>\n",
       "      <td>C1</td>\n",
       "      <td>C18</td>\n",
       "      <td>C7</td>\n",
       "      <td>C76</td>\n",
       "      <td>A1</td>\n",
       "      <td>B2</td>\n",
       "      <td>129856.53</td>\n",
       "      <td>243343.00</td>\n",
       "      <td>regular</td>\n",
       "    </tr>\n",
       "    <tr>\n",
       "      <th>2</th>\n",
       "      <td>133537</td>\n",
       "      <td>C1</td>\n",
       "      <td>C19</td>\n",
       "      <td>C2</td>\n",
       "      <td>C20</td>\n",
       "      <td>A1</td>\n",
       "      <td>B3</td>\n",
       "      <td>957463.97</td>\n",
       "      <td>3183838.41</td>\n",
       "      <td>regular</td>\n",
       "    </tr>\n",
       "    <tr>\n",
       "      <th>3</th>\n",
       "      <td>331521</td>\n",
       "      <td>C4</td>\n",
       "      <td>C48</td>\n",
       "      <td>C9</td>\n",
       "      <td>C95</td>\n",
       "      <td>A2</td>\n",
       "      <td>B1</td>\n",
       "      <td>2681709.51</td>\n",
       "      <td>28778.00</td>\n",
       "      <td>regular</td>\n",
       "    </tr>\n",
       "    <tr>\n",
       "      <th>4</th>\n",
       "      <td>375333</td>\n",
       "      <td>C5</td>\n",
       "      <td>C58</td>\n",
       "      <td>C1</td>\n",
       "      <td>C19</td>\n",
       "      <td>A3</td>\n",
       "      <td>B1</td>\n",
       "      <td>910514.49</td>\n",
       "      <td>346.00</td>\n",
       "      <td>regular</td>\n",
       "    </tr>\n",
       "  </tbody>\n",
       "</table>\n",
       "</div>"
      ],
      "text/plain": [
       "    BELNR WAERS BUKRS KTOSL PRCTR BSCHL HKONT       DMBTR       WRBTR    label\n",
       "0  288203    C3   C31    C9   C92    A3    B1   280979.60        0.00  regular\n",
       "1  324441    C1   C18    C7   C76    A1    B2   129856.53   243343.00  regular\n",
       "2  133537    C1   C19    C2   C20    A1    B3   957463.97  3183838.41  regular\n",
       "3  331521    C4   C48    C9   C95    A2    B1  2681709.51    28778.00  regular\n",
       "4  375333    C5   C58    C1   C19    A3    B1   910514.49      346.00  regular"
      ]
     },
     "execution_count": 4,
     "metadata": {},
     "output_type": "execute_result"
    }
   ],
   "source": [
    "# export\n",
    "\n",
    "df,bukrs_options = load_data('data.csv')\n",
    "df.head()"
   ]
  },
  {
   "cell_type": "code",
   "execution_count": 5,
   "id": "b84fb377-5c8c-4e04-bdc7-7642180f49ff",
   "metadata": {},
   "outputs": [
    {
     "data": {
      "text/plain": [
       "['C13',\n",
       " 'C20',\n",
       " 'C19',\n",
       " 'C18',\n",
       " 'C16',\n",
       " 'C14',\n",
       " 'C15',\n",
       " 'C12',\n",
       " 'C17',\n",
       " 'C10',\n",
       " 'C11',\n",
       " 'C21',\n",
       " 'C65',\n",
       " 'C74',\n",
       " 'C47']"
      ]
     },
     "execution_count": 5,
     "metadata": {},
     "output_type": "execute_result"
    }
   ],
   "source": [
    "bukrs_options"
   ]
  },
  {
   "cell_type": "code",
   "execution_count": 6,
   "id": "19a659c5-45c0-467f-bdb2-5fb65ccd7216",
   "metadata": {},
   "outputs": [],
   "source": [
    "# export\n",
    "def get_hkont_options(bukrs):\n",
    "    return df[df['BUKRS']==bukrs]['HKONT'].value_counts()[:15].index.tolist()\n"
   ]
  },
  {
   "cell_type": "code",
   "execution_count": 7,
   "id": "e0101910",
   "metadata": {},
   "outputs": [
    {
     "data": {
      "text/plain": [
       "['B1', 'B3', 'B2']"
      ]
     },
     "execution_count": 7,
     "metadata": {},
     "output_type": "execute_result"
    }
   ],
   "source": [
    "get_hkont_options('C20')"
   ]
  },
  {
   "cell_type": "code",
   "execution_count": 8,
   "id": "49dbc613-0b28-4874-b3bc-c67ad7906d45",
   "metadata": {},
   "outputs": [],
   "source": [
    "# export\n",
    "def get_data(bukrs,hkont):\n",
    "    return df[(df['BUKRS']==bukrs) & (df['HKONT']==hkont)]\n"
   ]
  },
  {
   "cell_type": "code",
   "execution_count": 9,
   "id": "ae83c8b8",
   "metadata": {},
   "outputs": [
    {
     "data": {
      "text/html": [
       "<div>\n",
       "<style scoped>\n",
       "    .dataframe tbody tr th:only-of-type {\n",
       "        vertical-align: middle;\n",
       "    }\n",
       "\n",
       "    .dataframe tbody tr th {\n",
       "        vertical-align: top;\n",
       "    }\n",
       "\n",
       "    .dataframe thead th {\n",
       "        text-align: right;\n",
       "    }\n",
       "</style>\n",
       "<table border=\"1\" class=\"dataframe\">\n",
       "  <thead>\n",
       "    <tr style=\"text-align: right;\">\n",
       "      <th></th>\n",
       "      <th>BELNR</th>\n",
       "      <th>WAERS</th>\n",
       "      <th>BUKRS</th>\n",
       "      <th>KTOSL</th>\n",
       "      <th>PRCTR</th>\n",
       "      <th>BSCHL</th>\n",
       "      <th>HKONT</th>\n",
       "      <th>DMBTR</th>\n",
       "      <th>WRBTR</th>\n",
       "      <th>label</th>\n",
       "    </tr>\n",
       "  </thead>\n",
       "  <tbody>\n",
       "    <tr>\n",
       "      <th>97</th>\n",
       "      <td>394696</td>\n",
       "      <td>C1</td>\n",
       "      <td>C14</td>\n",
       "      <td>C7</td>\n",
       "      <td>C72</td>\n",
       "      <td>A1</td>\n",
       "      <td>B2</td>\n",
       "      <td>1844944.41</td>\n",
       "      <td>0.00</td>\n",
       "      <td>regular</td>\n",
       "    </tr>\n",
       "    <tr>\n",
       "      <th>309</th>\n",
       "      <td>305105</td>\n",
       "      <td>C1</td>\n",
       "      <td>C14</td>\n",
       "      <td>C6</td>\n",
       "      <td>C61</td>\n",
       "      <td>A1</td>\n",
       "      <td>B2</td>\n",
       "      <td>1174700.99</td>\n",
       "      <td>52.54</td>\n",
       "      <td>regular</td>\n",
       "    </tr>\n",
       "    <tr>\n",
       "      <th>1036</th>\n",
       "      <td>435078</td>\n",
       "      <td>C1</td>\n",
       "      <td>C14</td>\n",
       "      <td>C7</td>\n",
       "      <td>C74</td>\n",
       "      <td>A1</td>\n",
       "      <td>B2</td>\n",
       "      <td>243185.46</td>\n",
       "      <td>2966.00</td>\n",
       "      <td>regular</td>\n",
       "    </tr>\n",
       "    <tr>\n",
       "      <th>1141</th>\n",
       "      <td>62518</td>\n",
       "      <td>C1</td>\n",
       "      <td>C14</td>\n",
       "      <td>C7</td>\n",
       "      <td>C75</td>\n",
       "      <td>A1</td>\n",
       "      <td>B2</td>\n",
       "      <td>530013.07</td>\n",
       "      <td>383269.01</td>\n",
       "      <td>regular</td>\n",
       "    </tr>\n",
       "    <tr>\n",
       "      <th>1159</th>\n",
       "      <td>106806</td>\n",
       "      <td>C1</td>\n",
       "      <td>C14</td>\n",
       "      <td>C7</td>\n",
       "      <td>C79</td>\n",
       "      <td>A1</td>\n",
       "      <td>B2</td>\n",
       "      <td>380364.35</td>\n",
       "      <td>85931.00</td>\n",
       "      <td>regular</td>\n",
       "    </tr>\n",
       "    <tr>\n",
       "      <th>...</th>\n",
       "      <td>...</td>\n",
       "      <td>...</td>\n",
       "      <td>...</td>\n",
       "      <td>...</td>\n",
       "      <td>...</td>\n",
       "      <td>...</td>\n",
       "      <td>...</td>\n",
       "      <td>...</td>\n",
       "      <td>...</td>\n",
       "      <td>...</td>\n",
       "    </tr>\n",
       "    <tr>\n",
       "      <th>532237</th>\n",
       "      <td>179974</td>\n",
       "      <td>C1</td>\n",
       "      <td>C14</td>\n",
       "      <td>C6</td>\n",
       "      <td>C61</td>\n",
       "      <td>A1</td>\n",
       "      <td>B2</td>\n",
       "      <td>154903.94</td>\n",
       "      <td>321.00</td>\n",
       "      <td>regular</td>\n",
       "    </tr>\n",
       "    <tr>\n",
       "      <th>532278</th>\n",
       "      <td>83155</td>\n",
       "      <td>C1</td>\n",
       "      <td>C14</td>\n",
       "      <td>C6</td>\n",
       "      <td>C67</td>\n",
       "      <td>A1</td>\n",
       "      <td>B2</td>\n",
       "      <td>40992.65</td>\n",
       "      <td>0.00</td>\n",
       "      <td>regular</td>\n",
       "    </tr>\n",
       "    <tr>\n",
       "      <th>532321</th>\n",
       "      <td>144930</td>\n",
       "      <td>C1</td>\n",
       "      <td>C14</td>\n",
       "      <td>C7</td>\n",
       "      <td>C72</td>\n",
       "      <td>A1</td>\n",
       "      <td>B2</td>\n",
       "      <td>595271.52</td>\n",
       "      <td>14526.00</td>\n",
       "      <td>regular</td>\n",
       "    </tr>\n",
       "    <tr>\n",
       "      <th>532891</th>\n",
       "      <td>174538</td>\n",
       "      <td>C1</td>\n",
       "      <td>C14</td>\n",
       "      <td>C3</td>\n",
       "      <td>C32</td>\n",
       "      <td>A1</td>\n",
       "      <td>B2</td>\n",
       "      <td>45884.13</td>\n",
       "      <td>0.00</td>\n",
       "      <td>regular</td>\n",
       "    </tr>\n",
       "    <tr>\n",
       "      <th>532910</th>\n",
       "      <td>42052</td>\n",
       "      <td>C1</td>\n",
       "      <td>C14</td>\n",
       "      <td>C3</td>\n",
       "      <td>C36</td>\n",
       "      <td>A1</td>\n",
       "      <td>B2</td>\n",
       "      <td>11184.89</td>\n",
       "      <td>0.00</td>\n",
       "      <td>regular</td>\n",
       "    </tr>\n",
       "  </tbody>\n",
       "</table>\n",
       "<p>4315 rows × 10 columns</p>\n",
       "</div>"
      ],
      "text/plain": [
       "         BELNR WAERS BUKRS KTOSL PRCTR BSCHL HKONT       DMBTR      WRBTR  \\\n",
       "97      394696    C1   C14    C7   C72    A1    B2  1844944.41       0.00   \n",
       "309     305105    C1   C14    C6   C61    A1    B2  1174700.99      52.54   \n",
       "1036    435078    C1   C14    C7   C74    A1    B2   243185.46    2966.00   \n",
       "1141     62518    C1   C14    C7   C75    A1    B2   530013.07  383269.01   \n",
       "1159    106806    C1   C14    C7   C79    A1    B2   380364.35   85931.00   \n",
       "...        ...   ...   ...   ...   ...   ...   ...         ...        ...   \n",
       "532237  179974    C1   C14    C6   C61    A1    B2   154903.94     321.00   \n",
       "532278   83155    C1   C14    C6   C67    A1    B2    40992.65       0.00   \n",
       "532321  144930    C1   C14    C7   C72    A1    B2   595271.52   14526.00   \n",
       "532891  174538    C1   C14    C3   C32    A1    B2    45884.13       0.00   \n",
       "532910   42052    C1   C14    C3   C36    A1    B2    11184.89       0.00   \n",
       "\n",
       "          label  \n",
       "97      regular  \n",
       "309     regular  \n",
       "1036    regular  \n",
       "1141    regular  \n",
       "1159    regular  \n",
       "...         ...  \n",
       "532237  regular  \n",
       "532278  regular  \n",
       "532321  regular  \n",
       "532891  regular  \n",
       "532910  regular  \n",
       "\n",
       "[4315 rows x 10 columns]"
      ]
     },
     "execution_count": 9,
     "metadata": {},
     "output_type": "execute_result"
    }
   ],
   "source": [
    "get_data('C14','B2')"
   ]
  },
  {
   "cell_type": "markdown",
   "id": "923681eb-3be4-40e5-8f39-0c28264b1675",
   "metadata": {
    "tags": []
   },
   "source": [
    "## General Infos Widget"
   ]
  },
  {
   "cell_type": "code",
   "execution_count": 10,
   "id": "b1fbd518-881f-4a36-a106-b31f4b47f903",
   "metadata": {},
   "outputs": [],
   "source": [
    "# export\n",
    "def info_widget_children(data: List[Dict], logo_url: str = None) -> v.Html:\n",
    "    children = []\n",
    "    if logo_url is not None:\n",
    "        logo = v.Card(\n",
    "            outlined=True,\n",
    "            class_='ma-1',\n",
    "            children=[v.Img(src=logo_url, height='100px', contain=True)],\n",
    "            style_='width: calc(14.28% - 8px); min-width: 150px',\n",
    "        )\n",
    "        children.append(logo)\n",
    "\n",
    "    for item in data:\n",
    "        card = v.Card(\n",
    "            outlined=True,\n",
    "            class_='ma-1',\n",
    "            children=[\n",
    "                v.CardTitle(\n",
    "                    primary_title=True,\n",
    "                    children=[item['title']],\n",
    "                    style_='font-size: 18px; color: #51ef98',\n",
    "                ),\n",
    "                v.CardText(children=[str(item['value'])]),\n",
    "            ],\n",
    "            style_='width: calc(14.28% - 8px); min-width: 150px',\n",
    "        )\n",
    "        children.append(card)\n",
    "    return children"
   ]
  },
  {
   "cell_type": "code",
   "execution_count": 11,
   "id": "5d338caf-b7b5-40d4-94b5-4a007b39c4cf",
   "metadata": {},
   "outputs": [],
   "source": [
    "# export\n",
    "def get_infos(df):\n",
    "    logo_url='https://clonetrak.com/wp-content/uploads/2020/12/Dashboard-Analytics.png'\n",
    "    infos = [\n",
    "    ('#Einträge',len(df)),\n",
    "    ('#Anomalien',100),\n",
    "    ('~ Betrag',df['WRBTR'].mean().round(3)),\n",
    "    ('#B. Schlüssel',len(df['BSCHL'].drop_duplicates())),\n",
    "    ('#Konten',len(df['HKONT'].drop_duplicates())),\n",
    "    ('#Buchungskreise',len(df['BUKRS'].drop_duplicates()))]\n",
    "    infos = [{'title':i[0],'value':i[1]}for i in infos]\n",
    "    return info_widget_children(infos,logo_url)\n"
   ]
  },
  {
   "cell_type": "code",
   "execution_count": 12,
   "id": "ed7dc429",
   "metadata": {},
   "outputs": [],
   "source": [
    "# export\n",
    "def new_infos_widget():\n",
    "    w=v.Html(\n",
    "        tag='div',\n",
    "        class_='d-flex flex-row',\n",
    "        children=[],\n",
    "        style_='flex-wrap: wrap',\n",
    "    )\n",
    "    return w"
   ]
  },
  {
   "cell_type": "code",
   "execution_count": 13,
   "id": "39410f89-6104-4974-ac9b-42be1e4f0790",
   "metadata": {},
   "outputs": [
    {
     "data": {
      "application/vnd.jupyter.widget-view+json": {
       "model_id": "33a6558d0d514ef284bfcd7960e1777c",
       "version_major": 2,
       "version_minor": 0
      },
      "text/plain": [
       "Html(class_='d-flex flex-row', style_='flex-wrap: wrap', tag='div')"
      ]
     },
     "metadata": {},
     "output_type": "display_data"
    }
   ],
   "source": [
    "# export\n",
    "\n",
    "infos_widget=new_infos_widget()\n",
    "infos_widget"
   ]
  },
  {
   "cell_type": "code",
   "execution_count": 14,
   "id": "a1d232c6-c9f7-4229-b2e9-3c3a1ad3febe",
   "metadata": {},
   "outputs": [],
   "source": [
    "# export\n",
    "def update_infos_widget(df,w=infos_widget):\n",
    "    w.children=get_infos(df)"
   ]
  },
  {
   "cell_type": "code",
   "execution_count": 16,
   "id": "357d5b25-494f-4da9-862c-b5f9ffc5dcb8",
   "metadata": {},
   "outputs": [],
   "source": [
    "update_infos_widget(df)"
   ]
  },
  {
   "cell_type": "markdown",
   "id": "cd166df9-16ef-444e-aa19-9253f510c862",
   "metadata": {},
   "source": [
    "## Plot 1 Widget"
   ]
  },
  {
   "cell_type": "code",
   "execution_count": 18,
   "id": "987187fa-ddfb-413a-81e0-b909c57b080f",
   "metadata": {},
   "outputs": [],
   "source": [
    "# export\n",
    "def new_p1_widget():\n",
    "    w = go.FigureWidget()\n",
    "    w.add_trace(go.Scatter(x=[],y=[]))\n",
    "    w.update_traces\n",
    "    w.update_layout(\n",
    "        autosize=True,\n",
    "        template='plotly_dark',\n",
    "        title={\n",
    "            'text': 'Plot 1 Widget - WRBTR',\n",
    "            'xanchor': 'center',\n",
    "            'yanchor': 'top',\n",
    "            'x': 0.5,\n",
    "        },\n",
    "    )\n",
    "    return w"
   ]
  },
  {
   "cell_type": "code",
   "execution_count": 19,
   "id": "75fb031d",
   "metadata": {},
   "outputs": [
    {
     "data": {
      "application/vnd.jupyter.widget-view+json": {
       "model_id": "89e47e663ea347c28f1bb523b335a625",
       "version_major": 2,
       "version_minor": 0
      },
      "text/plain": [
       "FigureWidget({\n",
       "    'data': [{'type': 'scatter', 'uid': 'f4f4c985-7a4c-4094-919a-f312851ba029', 'x': [], 'y': […"
      ]
     },
     "metadata": {},
     "output_type": "display_data"
    }
   ],
   "source": [
    "# export\n",
    "\n",
    "p1_widget=new_p1_widget()\n",
    "p1_widget"
   ]
  },
  {
   "cell_type": "code",
   "execution_count": 20,
   "id": "81a58ce9-e713-4236-b284-6c51852a1dcd",
   "metadata": {},
   "outputs": [],
   "source": [
    "# export\n",
    "def update_p1_widget(df,w=p1_widget):\n",
    "    w.data[0].x= df.index\n",
    "    w.data[0].y= df['WRBTR']\n"
   ]
  },
  {
   "cell_type": "code",
   "execution_count": 21,
   "id": "0f3827ab",
   "metadata": {},
   "outputs": [],
   "source": [
    "update_p1_widget(df)"
   ]
  },
  {
   "cell_type": "markdown",
   "id": "d8e0eb73-bf21-4ada-b90c-71890379bd54",
   "metadata": {},
   "source": [
    "## Plot 2 Widget"
   ]
  },
  {
   "cell_type": "code",
   "execution_count": 22,
   "id": "63962532-0b2f-4ae4-88b4-81937aedfbca",
   "metadata": {},
   "outputs": [],
   "source": [
    "# export\n",
    "def new_p2_widget():\n",
    "    w = go.FigureWidget()\n",
    "    w.add_trace(go.Scatter(x=[],y=[]))\n",
    "    w.update_traces\n",
    "    w.update_layout(\n",
    "        autosize=True,\n",
    "        template='plotly_dark',\n",
    "        title={\n",
    "            'text': 'Plot 2 Widget - DMBTR',\n",
    "            'xanchor': 'center',\n",
    "            'yanchor': 'top',\n",
    "            'x': 0.5,\n",
    "        },\n",
    "    )\n",
    "    return w"
   ]
  },
  {
   "cell_type": "code",
   "execution_count": 23,
   "id": "01165493",
   "metadata": {},
   "outputs": [
    {
     "data": {
      "application/vnd.jupyter.widget-view+json": {
       "model_id": "dcc3f05d4f9e4dec8b86d6b99981e0c6",
       "version_major": 2,
       "version_minor": 0
      },
      "text/plain": [
       "FigureWidget({\n",
       "    'data': [{'type': 'scatter', 'uid': '0014b1b1-aa30-4955-b385-7db40117f8d5', 'x': [], 'y': […"
      ]
     },
     "metadata": {},
     "output_type": "display_data"
    }
   ],
   "source": [
    "# export\n",
    "\n",
    "p2_widget=new_p2_widget()\n",
    "p2_widget"
   ]
  },
  {
   "cell_type": "code",
   "execution_count": 24,
   "id": "1e92a909-217b-4e84-ba53-de0295860356",
   "metadata": {},
   "outputs": [],
   "source": [
    "# export\n",
    "def update_p2_widget(df,w=p2_widget):\n",
    "    w.data[0].x= df.index\n",
    "    w.data[0].y= df['DMBTR']\n"
   ]
  },
  {
   "cell_type": "code",
   "execution_count": 25,
   "id": "ce079741",
   "metadata": {},
   "outputs": [],
   "source": [
    "update_p2_widget(df)"
   ]
  },
  {
   "cell_type": "markdown",
   "id": "bdcd5768-9f28-4b21-bece-e46e94154a85",
   "metadata": {},
   "source": [
    "## Data Loader Widget"
   ]
  },
  {
   "cell_type": "code",
   "execution_count": 29,
   "id": "57c05131-c3a0-4f10-aa0a-6de4b338dc8a",
   "metadata": {},
   "outputs": [],
   "source": [
    "# export\n",
    "def new_dataloader_widget(updaters=[]):\n",
    "    sel1 = v.Select(\n",
    "                v_model='',\n",
    "                label='BUKRS', items=bukrs_options, class_='ma-2', outlined=False)\n",
    "\n",
    "    def on_sel1(widget, event, data):\n",
    "        sel2.items = get_hkont_options(widget.v_model) \n",
    "\n",
    "\n",
    "\n",
    "    sel1.on_event('change', on_sel1)\n",
    "\n",
    "\n",
    "    sel2 = v.Select(\n",
    "                v_model='',\n",
    "                label='HKONT', items=[], class_='ma-2', outlined=False)\n",
    "    def on_run_button(widget, event, data):\n",
    "        if sel1.v_model and sel2.v_model:\n",
    "            data=get_data(sel1.v_model,sel2.v_model)\n",
    "            for update_widget in updaters:\n",
    "                update_widget(data)\n",
    "\n",
    "    run_button = v.Btn(color='primary', class_='ma-2', children=[\n",
    "\n",
    "            v.Icon(left=True, children=['mdi-play']), 'Run Search '\n",
    "        ])\n",
    "    run_button.on_event('click', on_run_button)\n",
    "\n",
    "    data_loader_widget = v.Layout(children=[\n",
    "      sel1,sel2,run_button\n",
    "\n",
    "    ])\n",
    "    return data_loader_widget"
   ]
  },
  {
   "cell_type": "code",
   "execution_count": 30,
   "id": "362cf6cb",
   "metadata": {},
   "outputs": [
    {
     "data": {
      "application/vnd.jupyter.widget-view+json": {
       "model_id": "e5b7b5fe141c4f11b815d53c480c2421",
       "version_major": 2,
       "version_minor": 0
      },
      "text/plain": [
       "Layout(children=[Select(class_='ma-2', items=['C13', 'C20', 'C19', 'C18', 'C16', 'C14', 'C15', 'C12', 'C17', '…"
      ]
     },
     "metadata": {},
     "output_type": "display_data"
    }
   ],
   "source": [
    "# export\n",
    "dataloader_widget=new_dataloader_widget(updaters=[update_infos_widget,update_p1_widget,update_p2_widget])\n",
    "dataloader_widget"
   ]
  },
  {
   "cell_type": "markdown",
   "id": "267db52d-d52e-446a-8a0b-1b9990f935e8",
   "metadata": {},
   "source": [
    "## FlexLayout"
   ]
  },
  {
   "cell_type": "code",
   "execution_count": 32,
   "id": "874823ba-9ec1-4f46-9e81-5e7d5edbdf67",
   "metadata": {},
   "outputs": [
    {
     "data": {
      "application/vnd.jupyter.widget-view+json": {
       "model_id": "8b2a5b9bbe1746c9b1f2a89b2058645a",
       "version_major": 2,
       "version_minor": 0
      },
      "text/plain": [
       "FlexLayout(children={'Data loader': Layout(children=[Select(class_='ma-2', items=['C13', 'C20', 'C19', 'C18', …"
      ]
     },
     "metadata": {},
     "output_type": "display_data"
    }
   ],
   "source": [
    "all_widgets =  {'Data loader':dataloader_widget, 'Infos': infos_widget, 'Plot 1': p1_widget,'Plot 2':p2_widget}\n",
    "header = dict(title='voidash',\n",
    "             style={'background':'green',\n",
    "                    'color':'yellow',\n",
    "                    'fontStyle': 'italic'},\n",
    "              buttons=['import','export','save']\n",
    "             )\n",
    "w = FlexLayout(all_widgets, style={'height': '800px'}, template = './template.json', editable=True, header=header)\n",
    "w"
   ]
  },
  {
   "cell_type": "code",
   "execution_count": 36,
   "id": "143df41e-e677-47bd-85f5-a818d4720a8a",
   "metadata": {},
   "outputs": [
    {
     "name": "stdout",
     "output_type": "stream",
     "text": [
      "Converted 01_widgets.ipynb.\n"
     ]
    }
   ],
   "source": [
    "notebook2script(fname='01_widgets.ipynb')"
   ]
  },
  {
   "cell_type": "code",
   "execution_count": null,
   "id": "82ec6f97-4120-42c8-bfef-33ea22e15b17",
   "metadata": {},
   "outputs": [],
   "source": []
  }
 ],
 "metadata": {
  "kernelspec": {
   "display_name": "voidash",
   "language": "python",
   "name": "voidash"
  },
  "language_info": {
   "codemirror_mode": {
    "name": "ipython",
    "version": 3
   },
   "file_extension": ".py",
   "mimetype": "text/x-python",
   "name": "python",
   "nbconvert_exporter": "python",
   "pygments_lexer": "ipython3",
   "version": "3.8.13"
  },
  "toc": {
   "base_numbering": 1,
   "nav_menu": {},
   "number_sections": true,
   "sideBar": true,
   "skip_h1_title": false,
   "title_cell": "Table of Contents",
   "title_sidebar": "Contents",
   "toc_cell": false,
   "toc_position": {},
   "toc_section_display": true,
   "toc_window_display": true
  }
 },
 "nbformat": 4,
 "nbformat_minor": 5
}
