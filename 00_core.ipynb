{
 "cells": [
  {
   "cell_type": "code",
   "execution_count": 1,
   "metadata": {},
   "outputs": [],
   "source": [
    "# default_exp core"
   ]
  },
  {
   "cell_type": "markdown",
   "metadata": {},
   "source": [
    "# Voila Dashboard\n",
    "\n",
    "> API details."
   ]
  },
  {
   "cell_type": "code",
   "execution_count": 2,
   "metadata": {},
   "outputs": [],
   "source": [
    "#hide\n",
    "from nbdev.showdoc import *"
   ]
  },
  {
   "cell_type": "code",
   "execution_count": 3,
   "metadata": {},
   "outputs": [],
   "source": [
    "from ipyflex import FlexLayout\n",
    "import ipywidgets as widgets\n",
    "import plotly.graph_objects as go\n",
    "import numpy\n",
    "import math"
   ]
  },
  {
   "cell_type": "code",
   "execution_count": 4,
   "metadata": {},
   "outputs": [],
   "source": [
    "slider = widgets.FloatRangeSlider(description = 'Range')\n"
   ]
  },
  {
   "cell_type": "code",
   "execution_count": 5,
   "metadata": {},
   "outputs": [],
   "source": [
    "omega = widgets.FloatSlider(description = 'Omega',value = 1)\n"
   ]
  },
  {
   "cell_type": "code",
   "execution_count": 9,
   "metadata": {},
   "outputs": [
    {
     "data": {
      "application/vnd.jupyter.widget-view+json": {
       "model_id": "4be921305a574ff2947e2789613ecf8c",
       "version_major": 2,
       "version_minor": 0
      },
      "text/plain": [
       "Select(items=['Apple', 'Pear', 'Cherry'], label='Functions', outlined=False, v_model='')"
      ]
     },
     "metadata": {},
     "output_type": "display_data"
    }
   ],
   "source": [
    "import ipyvuetify as v\n",
    "import ipywidgets as widgets\n",
    "from ipywidgets import Layout\n",
    "\n",
    "\n",
    "def on_click(widget, event, data):\n",
    "    fig.data[0].y= numpy.random.rand(100)\n",
    "\n",
    "\n",
    "a = v.Select(\n",
    "                v_model='',\n",
    "                label='Functions', items=['Apple', 'Pear', 'Cherry'], outlined=False)\n",
    "\n",
    "a.on_event('change', on_click)\n",
    "a"
   ]
  },
  {
   "cell_type": "code",
   "execution_count": 14,
   "metadata": {},
   "outputs": [],
   "source": [
    "fig = go.FigureWidget()\n",
    "fig.add_trace(go.Scatter(x=[],y=[]))\n",
    "fig.update_layout(title = 'Hello Ipyflex')\n",
    "fig.update_traces\n",
    "fig.data[0].x= list(range(100))\n",
    "fig.data[0].y= numpy.random.rand(100)\n",
    "f = lambda t: math.sin(t)\n",
    "def compute(*ignore):\n",
    "    min = slider.value[0]\n",
    "    max =  slider.value[1]\n",
    "    x = numpy.arange(min, max, (max-min)/100)\n",
    "    y =  [f(omega.value* _) for _ in x]\n",
    "    fig.data[0].x= x\n",
    "    fig.data[0].y= y\n",
    "\n",
    "slider.observe(compute, 'value')\n",
    "omega.observe(compute, 'value')\n"
   ]
  },
  {
   "cell_type": "code",
   "execution_count": 30,
   "metadata": {},
   "outputs": [],
   "source": [
    "def fac_sample(value):\n",
    "    value=int(value)\n",
    "    fig2 = go.FigureWidget()\n",
    "    fig2.add_trace(go.Scatter(x=[],y=[]))\n",
    "    fig2.update_layout(title = 'Hello Ipyflex')\n",
    "    fig2.update_traces\n",
    "    x= list(range(100))\n",
    "    fig2.data[0].x= x\n",
    "    fig2.data[0].y = [f(value * _) for _ in x]\n",
    "    return fig2"
   ]
  },
  {
   "cell_type": "code",
   "execution_count": 31,
   "metadata": {},
   "outputs": [
    {
     "data": {
      "application/vnd.jupyter.widget-view+json": {
       "model_id": "a00282f9d5084cfbb0bfa10e7d760875",
       "version_major": 2,
       "version_minor": 0
      },
      "text/plain": [
       "FigureWidget({\n",
       "    'data': [{'type': 'scatter',\n",
       "              'uid': '3d52d33e-c5a9-401a-b083-087cef09bae1',\n",
       " …"
      ]
     },
     "metadata": {},
     "output_type": "display_data"
    }
   ],
   "source": [
    "fac_sample(20)"
   ]
  },
  {
   "cell_type": "code",
   "execution_count": 32,
   "metadata": {},
   "outputs": [],
   "source": [
    "factories = {'Fac1':fac_sample}"
   ]
  },
  {
   "cell_type": "code",
   "execution_count": 33,
   "metadata": {},
   "outputs": [],
   "source": [
    "all_widgets =  {'A slider widget':slider, 'Output result': fig, 'Another slider': omega,'Dropdown':a}\n"
   ]
  },
  {
   "cell_type": "code",
   "execution_count": 34,
   "metadata": {},
   "outputs": [
    {
     "data": {
      "application/vnd.jupyter.widget-view+json": {
       "model_id": "a9175c913e0744dd8adba9ab2456b64a",
       "version_major": 2,
       "version_minor": 0
      },
      "text/plain": [
       "FlexLayout(children={'A slider widget': FloatRangeSlider(value=(32.3, 98.1), description='Range'), 'Output res…"
      ]
     },
     "metadata": {},
     "output_type": "display_data"
    }
   ],
   "source": [
    "header = dict(title='Demo header',\n",
    "             style={'background':'green',\n",
    "                    'color':'yellow',\n",
    "                    'fontStyle': 'italic'},\n",
    "              buttons=['import','export']\n",
    "             )\n",
    "w = FlexLayout(all_widgets,factories=factories, style={'height': '600px'}, template = './simple.json', editable=True, header=header)\n",
    "w"
   ]
  },
  {
   "cell_type": "code",
   "execution_count": null,
   "metadata": {},
   "outputs": [],
   "source": []
  }
 ],
 "metadata": {
  "kernelspec": {
   "display_name": "voidash",
   "language": "python",
   "name": "voidash"
  },
  "language_info": {
   "codemirror_mode": {
    "name": "ipython",
    "version": 3
   },
   "file_extension": ".py",
   "mimetype": "text/x-python",
   "name": "python",
   "nbconvert_exporter": "python",
   "pygments_lexer": "ipython3",
   "version": "3.8.13"
  }
 },
 "nbformat": 4,
 "nbformat_minor": 4
}
