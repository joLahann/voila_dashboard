{
 "cells": [
  {
   "cell_type": "code",
   "execution_count": 1,
   "id": "594adf2a",
   "metadata": {},
   "outputs": [],
   "source": [
    "import os\n",
    "from ipyflex import FlexLayout\n",
    "import ipywidgets as ipw\n",
    "from voidash import widgets"
   ]
  },
  {
   "cell_type": "code",
   "execution_count": 2,
   "id": "b2a1ca9f",
   "metadata": {},
   "outputs": [],
   "source": [
    "voila = os.getenv(\"VOILA_KERNEL_ID\")\n",
    "if voila is not None:\n",
    "    editable = True\n",
    "    height = \"calc(100vh - 60px)\"\n",
    "else:\n",
    "    editable = True\n",
    "    height = \"800px\""
   ]
  },
  {
   "cell_type": "code",
   "execution_count": 4,
   "id": "4520fa99",
   "metadata": {},
   "outputs": [],
   "source": [
    "w = FlexLayout(\n",
    "    style={\"height\": height},\n",
    "    header={\"title\": \"AUDIT ANALYTIC DASHBOARD\", \"style\": {\"backgroundColor\": \"rgb(53 53 53)\"}, \"buttons\":[\"export\",\"import\",'save']},\n",
    "    template=\"template.json\",\n",
    "    editable=editable,\n",
    ")\n",
    "style = ipw.HTML(\"\"\"<style>.js-plotly-plot {height: 100%;}</style> \"\"\")"
   ]
  },
  {
   "cell_type": "code",
   "execution_count": 5,
   "id": "382e37d3",
   "metadata": {},
   "outputs": [
    {
     "data": {
      "application/vnd.jupyter.widget-view+json": {
       "model_id": "9f82e04b91ef46b8a3222d0353eeefc2",
       "version_major": 2,
       "version_minor": 0
      },
      "text/plain": [
       "VBox(children=(FlexLayout(header={'title': 'AUDIT ANALYTIC DASHBOARD', 'style': {'backgroundColor': 'rgb(53 53…"
      ]
     },
     "metadata": {},
     "output_type": "display_data"
    }
   ],
   "source": [
    "ipw.VBox([w, style])"
   ]
  },
  {
   "cell_type": "code",
   "execution_count": 6,
   "id": "9e095d24",
   "metadata": {},
   "outputs": [],
   "source": [
    "my_widgets = {'Plot 1':widgets.p1_widget,'Plot 2':widgets.p2_widget,'Infos':widgets.infos_widget,'Data loader':widgets.dataloader_widget}"
   ]
  },
  {
   "cell_type": "code",
   "execution_count": 7,
   "id": "3b742dba",
   "metadata": {},
   "outputs": [],
   "source": [
    "for key, value in my_widgets.items():\n",
    "    w.add(key, value)"
   ]
  },
  {
   "cell_type": "code",
   "execution_count": null,
   "id": "e6134876",
   "metadata": {},
   "outputs": [],
   "source": []
  }
 ],
 "metadata": {
  "kernelspec": {
   "display_name": "voidash",
   "language": "python",
   "name": "voidash"
  },
  "language_info": {
   "codemirror_mode": {
    "name": "ipython",
    "version": 3
   },
   "file_extension": ".py",
   "mimetype": "text/x-python",
   "name": "python",
   "nbconvert_exporter": "python",
   "pygments_lexer": "ipython3",
   "version": "3.8.13"
  },
  "toc": {
   "base_numbering": 1,
   "nav_menu": {},
   "number_sections": true,
   "sideBar": true,
   "skip_h1_title": false,
   "title_cell": "Table of Contents",
   "title_sidebar": "Contents",
   "toc_cell": false,
   "toc_position": {},
   "toc_section_display": true,
   "toc_window_display": true
  }
 },
 "nbformat": 4,
 "nbformat_minor": 5
}
